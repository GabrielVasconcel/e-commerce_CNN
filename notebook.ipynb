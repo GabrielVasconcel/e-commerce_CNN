{
 "cells": [
  {
   "cell_type": "markdown",
   "id": "aaa02648-9eae-45ba-893f-88440e8e4235",
   "metadata": {},
   "source": [
    "![clothing_classification](clothing_classification.png)\n"
   ]
  },
  {
   "cell_type": "markdown",
   "id": "ad5a988c-1095-485a-a88c-002400a872be",
   "metadata": {},
   "source": [
    "Fashion Forward is a new AI-based e-commerce clothing retailer.\n",
    "They want to use image classification to automatically categorize new product listings, making it easier for customers to find what they're looking for. It will also assist in inventory management by quickly sorting items.\n",
    "\n",
    "As a data scientist tasked with implementing a garment classifier, your primary objective is to develop a machine learning model capable of accurately categorizing images of clothing items into distinct garment types such as shirts, trousers, shoes, etc."
   ]
  },
  {
   "cell_type": "code",
   "execution_count": 4,
   "id": "4a1ab317-f3e4-4e5f-93a7-9c27677c5ffb",
   "metadata": {
    "executionCancelledAt": null,
    "executionTime": 8,
    "lastExecutedAt": 1744806571231,
    "lastExecutedByKernel": "f0dd6921-d462-42d9-807c-c381d26821f5",
    "lastScheduledRunId": null,
    "lastSuccessfullyExecutedCode": "# Run the cells below first"
   },
   "outputs": [],
   "source": [
    "# Run the cells below first"
   ]
  },
  {
   "cell_type": "code",
   "execution_count": 5,
   "id": "ea8065b7-84fc-4376-afef-6db731dec4b3",
   "metadata": {
    "executionCancelledAt": null,
    "executionTime": 46,
    "lastExecutedAt": 1744806571277,
    "lastExecutedByKernel": "f0dd6921-d462-42d9-807c-c381d26821f5",
    "lastScheduledRunId": null,
    "lastSuccessfullyExecutedCode": "import numpy as np\nimport torch\nimport torch.nn as nn\nimport torch.optim as optim\nfrom torch.utils.data import Dataset, DataLoader\nfrom torchmetrics import Accuracy, Precision, Recall"
   },
   "outputs": [],
   "source": [
    "import numpy as np\n",
    "import torch\n",
    "import torch.nn as nn\n",
    "import torch.optim as optim\n",
    "from torch.utils.data import Dataset, DataLoader\n",
    "from torchmetrics import Accuracy, Precision, Recall"
   ]
  },
  {
   "cell_type": "code",
   "execution_count": 6,
   "id": "662e1bf1-943f-4243-9fd4-02ce11609e8d",
   "metadata": {
    "collapsed": false,
    "executionCancelledAt": null,
    "executionTime": 102,
    "jupyter": {
     "outputs_hidden": false,
     "source_hidden": false
    },
    "lastExecutedAt": 1744806571379,
    "lastExecutedByKernel": "f0dd6921-d462-42d9-807c-c381d26821f5",
    "lastScheduledRunId": null,
    "lastSuccessfullyExecutedCode": "# Load datasets\nfrom torchvision import datasets\nimport torchvision.transforms as transforms\n\ntrain_data = datasets.FashionMNIST(root='./data', train=True, download=True, transform=transforms.Compose([transforms.ToTensor(), transforms.Resize((64,64))]))\ntest_data = datasets.FashionMNIST(root='./data', train=False, download=True, transform=transforms.Compose([transforms.ToTensor(), transforms.Resize((64,64))]))",
    "outputsMetadata": {
     "0": {
      "height": 80,
      "type": "stream"
     },
     "1": {
      "height": 38,
      "type": "stream"
     },
     "2": {
      "height": 122,
      "type": "stream"
     },
     "3": {
      "height": 38,
      "type": "stream"
     },
     "4": {
      "height": 122,
      "type": "stream"
     },
     "5": {
      "height": 38,
      "type": "stream"
     },
     "6": {
      "height": 122,
      "type": "stream"
     },
     "7": {
      "height": 38,
      "type": "stream"
     },
     "8": {
      "height": 59,
      "type": "stream"
     }
    }
   },
   "outputs": [],
   "source": [
    "# Load datasets\n",
    "from torchvision import datasets\n",
    "import torchvision.transforms as transforms\n",
    "\n",
    "train_data = datasets.FashionMNIST(root='./data', train=True, download=True, transform=transforms.Compose([transforms.ToTensor(), transforms.Resize((64,64))]))\n",
    "test_data = datasets.FashionMNIST(root='./data', train=False, download=True, transform=transforms.Compose([transforms.ToTensor(), transforms.Resize((64,64))]))"
   ]
  },
  {
   "cell_type": "code",
   "execution_count": 7,
   "id": "df8aa483-7d8d-4138-9d53-734ac22c216c",
   "metadata": {
    "executionCancelledAt": null,
    "executionTime": 49,
    "lastExecutedAt": 1744806571429,
    "lastExecutedByKernel": "f0dd6921-d462-42d9-807c-c381d26821f5",
    "lastScheduledRunId": null,
    "lastSuccessfullyExecutedCode": "train_data"
   },
   "outputs": [
    {
     "data": {
      "text/plain": [
       "Dataset FashionMNIST\n",
       "    Number of datapoints: 60000\n",
       "    Root location: ./data\n",
       "    Split: Train\n",
       "    StandardTransform\n",
       "Transform: Compose(\n",
       "               ToTensor()\n",
       "               Resize(size=(64, 64), interpolation=bilinear, max_size=None, antialias=True)\n",
       "           )"
      ]
     },
     "execution_count": 7,
     "metadata": {},
     "output_type": "execute_result"
    }
   ],
   "source": [
    "train_data"
   ]
  },
  {
   "cell_type": "code",
   "execution_count": 8,
   "id": "0707daae-3d63-4589-a84d-02e51bb521ef",
   "metadata": {
    "executionCancelledAt": null,
    "executionTime": 48,
    "lastExecutedAt": 1744806571477,
    "lastExecutedByKernel": "f0dd6921-d462-42d9-807c-c381d26821f5",
    "lastScheduledRunId": null,
    "lastSuccessfullyExecutedCode": "train_dataloader = DataLoader(train_data, batch_size=64, shuffle=True)\ntest_dataloader = DataLoader(test_data, shuffle=False)"
   },
   "outputs": [],
   "source": [
    "train_dataloader = DataLoader(train_data, batch_size=64, shuffle=True)\n",
    "test_dataloader = DataLoader(test_data, shuffle=False)"
   ]
  },
  {
   "cell_type": "code",
   "execution_count": 9,
   "id": "53c0a71d-d7d9-4a11-8a9b-55867ea7e0b5",
   "metadata": {
    "executionCancelledAt": null,
    "executionTime": 48,
    "lastExecutedAt": 1744806571525,
    "lastExecutedByKernel": "f0dd6921-d462-42d9-807c-c381d26821f5",
    "lastScheduledRunId": null,
    "lastSuccessfullyExecutedCode": "# Start coding here\n# Use as many cells as you need\n\nclass Net(nn.Module):\n    def __init__(self):\n        super().__init__()\n        self.extractor = nn.Sequential(\n            nn.Conv2d(1, 32, kernel_size=3, padding=1),\n            nn.ELU(),\n            nn.MaxPool2d(kernel_size = 2),\n            \n            nn.Conv2d(32, 64, kernel_size=3, padding=1),\n            nn.ELU(),\n            nn.MaxPool2d(kernel_size = 2),            \n        )\n        self.fc = nn.Sequential(nn.Linear(64*16*16, 128), nn.ELU(),nn.Linear(128,10))\n        \n    def forward(self, x):\n        x = self.extractor(x)\n        x = x.view(x.size(0), -1) #flatten\n        x = self.fc(x)\n        return x\n        \n"
   },
   "outputs": [],
   "source": [
    "# Start coding here\n",
    "# Use as many cells as you need\n",
    "\n",
    "class Net(nn.Module):\n",
    "    def __init__(self):\n",
    "        super().__init__()\n",
    "        self.extractor = nn.Sequential(\n",
    "            nn.Conv2d(1, 32, kernel_size=3, padding=1),\n",
    "            nn.ELU(),\n",
    "            nn.MaxPool2d(kernel_size = 2),\n",
    "            \n",
    "            nn.Conv2d(32, 64, kernel_size=3, padding=1),\n",
    "            nn.ELU(),\n",
    "            nn.MaxPool2d(kernel_size = 2),            \n",
    "        )\n",
    "        self.fc = nn.Sequential(nn.Linear(64*16*16, 128), nn.ELU(),nn.Linear(128,10))\n",
    "        \n",
    "    def forward(self, x):\n",
    "        x = self.extractor(x)\n",
    "        x = x.view(x.size(0), -1) #flatten\n",
    "        x = self.fc(x)\n",
    "        return x\n",
    "        \n"
   ]
  },
  {
   "cell_type": "code",
   "execution_count": 10,
   "id": "be708246-cea4-48c3-8eca-d9a77580225c",
   "metadata": {
    "executionCancelledAt": null,
    "executionTime": 48,
    "lastExecutedAt": 1744806571573,
    "lastExecutedByKernel": "f0dd6921-d462-42d9-807c-c381d26821f5",
    "lastScheduledRunId": null,
    "lastSuccessfullyExecutedCode": "net = Net()\ncriterion = nn.CrossEntropyLoss()\noptimizer = optim.Adam(net.parameters(), lr =0.001)\nacc = Accuracy(task=\"multiclass\", num_classes=10)\nprc = Precision(task=\"multiclass\", num_classes=10, average=None)\nrec = Recall(task=\"multiclass\", num_classes=10, average=None)\n"
   },
   "outputs": [],
   "source": [
    "net = Net()\n",
    "criterion = nn.CrossEntropyLoss()\n",
    "optimizer = optim.Adam(net.parameters(), lr =0.001)\n",
    "acc = Accuracy(task=\"multiclass\", num_classes=10)\n",
    "prc = Precision(task=\"multiclass\", num_classes=10, average=None)\n",
    "rec = Recall(task=\"multiclass\", num_classes=10, average=None)\n"
   ]
  },
  {
   "cell_type": "code",
   "execution_count": 11,
   "id": "4f25532f-9dd9-447b-9763-42bfd3b8e687",
   "metadata": {
    "collapsed": false,
    "executionCancelledAt": null,
    "executionTime": 413768,
    "jupyter": {
     "outputs_hidden": false,
     "source_hidden": false
    },
    "lastExecutedAt": 1744806985341,
    "lastExecutedByKernel": "f0dd6921-d462-42d9-807c-c381d26821f5",
    "lastScheduledRunId": null,
    "lastSuccessfullyExecutedCode": "for epoch in range(1):\n    for image, label in train_dataloader:\n        optimizer.zero_grad()\n        output = net(image)\n        loss = criterion(output, label)\n        loss.backward()\n        optimizer.step()\n        ",
    "outputsMetadata": {
     "0": {
      "height": 560,
      "type": "stream"
     }
    }
   },
   "outputs": [],
   "source": [
    "for epoch in range(1):\n",
    "    for image, label in train_dataloader:\n",
    "        optimizer.zero_grad()\n",
    "        output = net(image)\n",
    "        loss = criterion(output, label)\n",
    "        loss.backward()\n",
    "        optimizer.step()\n",
    "        "
   ]
  },
  {
   "cell_type": "code",
   "execution_count": 12,
   "id": "5fcb6b3b-9d89-4254-8e87-6d332e615cec",
   "metadata": {
    "executionCancelledAt": null,
    "executionTime": 109802,
    "lastExecutedAt": 1744807095145,
    "lastExecutedByKernel": "f0dd6921-d462-42d9-807c-c381d26821f5",
    "lastScheduledRunId": null,
    "lastSuccessfullyExecutedCode": "#test\npredictions = []\nnet.eval()\nwith torch.no_grad():\n    for images, labels in test_dataloader:\n        outputs = net(images)\n        _, preds = torch.max(outputs, 1)\n        predictions.append(preds)\n        acc(preds, labels)\n        prc(preds, labels)\n        rec(preds, labels)\naccuracy = float(acc.compute())\nprecision = prc.compute()\nrecall = rec.compute()\n\n    "
   },
   "outputs": [],
   "source": [
    "#test\n",
    "predictions = []\n",
    "net.eval()\n",
    "with torch.no_grad():\n",
    "    for images, labels in test_dataloader:\n",
    "        outputs = net(images)\n",
    "        _, preds = torch.max(outputs, 1)\n",
    "        predictions.append(preds)\n",
    "        acc(preds, labels)\n",
    "        prc(preds, labels)\n",
    "        rec(preds, labels)\n",
    "accuracy = float(acc.compute())\n",
    "precision = prc.compute()\n",
    "recall = rec.compute()\n",
    "\n",
    "    "
   ]
  },
  {
   "cell_type": "code",
   "execution_count": 13,
   "id": "7011191f-0194-4495-b492-ea1e44bb3147",
   "metadata": {
    "executionCancelledAt": null,
    "executionTime": 47,
    "lastExecutedAt": 1744807095193,
    "lastExecutedByKernel": "f0dd6921-d462-42d9-807c-c381d26821f5",
    "lastScheduledRunId": null,
    "lastSuccessfullyExecutedCode": "precision = precision.tolist()\nrecall = recall.tolist()"
   },
   "outputs": [],
   "source": [
    "precision = precision.tolist()\n",
    "recall = recall.tolist()"
   ]
  }
 ],
 "metadata": {
  "colab": {
   "name": "Welcome to DataCamp Workspaces.ipynb",
   "provenance": []
  },
  "kernelspec": {
   "display_name": "base",
   "language": "python",
   "name": "python3"
  },
  "language_info": {
   "codemirror_mode": {
    "name": "ipython",
    "version": 3
   },
   "file_extension": ".py",
   "mimetype": "text/x-python",
   "name": "python",
   "nbconvert_exporter": "python",
   "pygments_lexer": "ipython3",
   "version": "3.12.7"
  }
 },
 "nbformat": 4,
 "nbformat_minor": 5
}
